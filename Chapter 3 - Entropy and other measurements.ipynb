{
 "cells": [
  {
   "cell_type": "code",
   "execution_count": 1,
   "metadata": {},
   "outputs": [],
   "source": [
    "import numpy as np\n",
    "import scipy.stats as ss\n",
    "from sklearn.metrics import mutual_info_score\n",
    "\n",
    "size, seed= 5000, 0\n",
    "np.random.seed(seed)\n",
    "\n",
    "x= np.random.normal(size=size)\n",
    "e = np.random.normal(size=size)\n",
    "\n",
    "y= 0*x + e\n"
   ]
  },
  {
   "cell_type": "code",
   "execution_count": 2,
   "metadata": {},
   "outputs": [
    {
     "data": {
      "text/plain": [
       "<matplotlib.collections.PathCollection at 0x1fe4d7b3128>"
      ]
     },
     "execution_count": 2,
     "metadata": {},
     "output_type": "execute_result"
    },
    {
     "data": {
      "image/png": "[encoded data removed]",
      "text/plain": [
       "<Figure size 432x288 with 1 Axes>"
      ]
     },
     "metadata": {
      "needs_background": "light"
     },
     "output_type": "display_data"
    }
   ],
   "source": [
    "import matplotlib.pyplot as plt\n",
    "%matplotlib inline\n",
    "plt.scatter(x, y)"
   ]
  },
  {
   "cell_type": "code",
   "execution_count": 4,
   "metadata": {},
   "outputs": [
    {
     "data": {
      "text/plain": [
       "(array([[  0.,   0.,   0.,   0.,   1.,   4.,   2.,   0.,   0.,   0.],\n",
       "        [  0.,   3.,   9.,   7.,  10.,  10.,   6.,   3.,   0.,   0.],\n",
       "        [  1.,   6.,  27.,  49.,  73.,  70.,  44.,  23.,   1.,   0.],\n",
       "        [  4.,  21.,  63., 144., 235., 205., 130.,  37.,  17.,   5.],\n",
       "        [ 13.,  41., 136., 228., 361., 308., 185.,  93.,  29.,   7.],\n",
       "        [  7.,  30., 110., 253., 325., 294., 209.,  82.,  25.,   4.],\n",
       "        [ 10.,  20.,  61., 131., 186., 187.,  92.,  39.,  22.,   0.],\n",
       "        [  2.,   3.,  22.,  37.,  69.,  63.,  41.,  16.,   1.,   1.],\n",
       "        [  0.,   2.,   3.,   7.,  14.,  11.,   3.,   3.,   0.,   0.],\n",
       "        [  0.,   1.,   0.,   1.,   0.,   1.,   1.,   0.,   0.,   0.]]),\n",
       " array([-3.74010064, -2.98592455, -2.23174847, -1.47757238, -0.7233963 ,\n",
       "         0.03077979,  0.78495587,  1.53913196,  2.29330804,  3.04748413,\n",
       "         3.80166021]),\n",
       " array([-3.12620148, -2.4843119 , -1.84242232, -1.20053274, -0.55864316,\n",
       "         0.08324642,  0.725136  ,  1.36702558,  2.00891516,  2.65080474,\n",
       "         3.29269432]))"
      ]
     },
     "execution_count": 4,
     "metadata": {},
     "output_type": "execute_result"
    }
   ],
   "source": [
    "cXY = np.histogram2d(x, y)\n",
    "cXY"
   ]
  },
  {
   "cell_type": "code",
   "execution_count": 8,
   "metadata": {},
   "outputs": [
    {
     "data": {
      "text/plain": [
       "(array([   7,   48,  294,  861, 1401, 1339,  748,  255,   43,    4],\n",
       "       dtype=int64),\n",
       " array([-3.74010064, -2.98592455, -2.23174847, -1.47757238, -0.7233963 ,\n",
       "         0.03077979,  0.78495587,  1.53913196,  2.29330804,  3.04748413,\n",
       "         3.80166021]))"
      ]
     },
     "metadata": {},
     "output_type": "display_data"
    },
    {
     "data": {
      "text/plain": [
       "1.7152372584692268"
      ]
     },
     "metadata": {},
     "output_type": "display_data"
    }
   ],
   "source": [
    "display(np.histogram(x))\n",
    "hX = ss.entropy(np.histogram(x)[0])\n",
    "display(hX)"
   ]
  },
  {
   "cell_type": "code",
   "execution_count": 9,
   "metadata": {},
   "outputs": [
    {
     "data": {
      "text/plain": [
       "1.8696012906742487"
      ]
     },
     "metadata": {},
     "output_type": "display_data"
    }
   ],
   "source": [
    "hY = ss.entropy(np.histogram(y)[0])\n",
    "display(hY)"
   ]
  },
  {
   "cell_type": "code",
   "execution_count": 11,
   "metadata": {},
   "outputs": [
    {
     "data": {
      "text/plain": [
       "(array([[  0.,   0.,   0.,   0.,   1.,   4.,   2.,   0.,   0.,   0.],\n",
       "        [  0.,   3.,   9.,   7.,  10.,  10.,   6.,   3.,   0.,   0.],\n",
       "        [  1.,   6.,  27.,  49.,  73.,  70.,  44.,  23.,   1.,   0.],\n",
       "        [  4.,  21.,  63., 144., 235., 205., 130.,  37.,  17.,   5.],\n",
       "        [ 13.,  41., 136., 228., 361., 308., 185.,  93.,  29.,   7.],\n",
       "        [  7.,  30., 110., 253., 325., 294., 209.,  82.,  25.,   4.],\n",
       "        [ 10.,  20.,  61., 131., 186., 187.,  92.,  39.,  22.,   0.],\n",
       "        [  2.,   3.,  22.,  37.,  69.,  63.,  41.,  16.,   1.,   1.],\n",
       "        [  0.,   2.,   3.,   7.,  14.,  11.,   3.,   3.,   0.,   0.],\n",
       "        [  0.,   1.,   0.,   1.,   0.,   1.,   1.,   0.,   0.,   0.]]),\n",
       " array([-3.74010064, -2.98592455, -2.23174847, -1.47757238, -0.7233963 ,\n",
       "         0.03077979,  0.78495587,  1.53913196,  2.29330804,  3.04748413,\n",
       "         3.80166021]),\n",
       " array([-3.12620148, -2.4843119 , -1.84242232, -1.20053274, -0.55864316,\n",
       "         0.08324642,  0.725136  ,  1.36702558,  2.00891516,  2.65080474,\n",
       "         3.29269432]))"
      ]
     },
     "execution_count": 11,
     "metadata": {},
     "output_type": "execute_result"
    }
   ],
   "source": [
    "cXY"
   ]
  },
  {
   "cell_type": "code",
   "execution_count": 12,
   "metadata": {},
   "outputs": [
    {
     "name": "stdout",
     "output_type": "stream",
     "text": [
      "0.009308477353687773\n"
     ]
    }
   ],
   "source": [
    "iXY = mutual_info_score(None, None, contingency=cXY[0])\n",
    "print(iXY)\n",
    "iXYn=iXY/min(hX, hY) # normalized mutual information\n",
    "hXY = hX + hY - iXY\n",
    "hX_Y=hXY-hY # conditional\n",
    "hY_X=hXY-hX"
   ]
  },
  {
   "cell_type": "code",
   "execution_count": 14,
   "metadata": {},
   "outputs": [],
   "source": [
    "#Tying together with the additional metric of Variation of Information\n",
    "def varInfo(x, y, bins, norm=False):\n",
    "    cXY = np.histogram2d(x,y,bins)[0]\n",
    "    iXY = mutual_info_score(None, None, contingency=cXY)\n",
    "    hX = ss.entropy(np.histogram(x, bins)[0])\n",
    "    hY = ss.entropy(np.histogram(y, bins)[0])\n",
    "    vXY = hX + hY - 2*iXY\n",
    "    \n",
    "    if norm:\n",
    "        hXY = hX + hY - iXY\n",
    "        vXY = vXY/hXY #normalized variation of information\n",
    "    return vXY\n",
    "\n",
    "# Optimal number of bins from Hacine-Gharbi et al 2012\n",
    "def numBins(nObs, corr=None):\n",
    "    if corr is None:\n",
    "        z = (8+324 * nObs + 12 *(36*nObs + 729*nObs**2)**.5) **(1/3.)\n",
    "        b = round(z/6. + 2./(3*z) + 1./3)\n",
    "    else:\n",
    "        b=round(2**-.5*(1+(1+24*nObs/(1.-corr**2))**.5)**.5)\n",
    "    return int(b)\n",
    "\n",
    "def varInfo(x, y, norm=False):\n",
    "    # Calculate Variational of Information using the Optimal Bins\n",
    "    bins = numBins(x.shape[0], corr=np.corrcoef(x,y)[0,1])\n",
    "    \n",
    "    cXY = np.histogram2d(x,y,bins)[0]\n",
    "    iXY = mutual_info_score(None, None, contingency=cXY)\n",
    "    hX = ss.entropy(np.histogram(x, bins)[0])\n",
    "    hY = ss.entropy(np.histogram(y, bins)[0])\n",
    "    vXY = hX + hY - 2*iXY\n",
    "    \n",
    "    if norm:\n",
    "        hXY = hX + hY - iXY\n",
    "        vXY = vXY/hXY #normalized variation of information\n",
    "    return vXY\n"
   ]
  },
  {
   "cell_type": "code",
   "execution_count": 15,
   "metadata": {},
   "outputs": [],
   "source": [
    "def MutualInfo(x, y, norm=False):\n",
    "    bins = numBins(x.shape[0], corr=np.corrcoef(x,y)[0,1])\n",
    "    \n",
    "    cXY = np.histogram2d(x,y,bins)[0]\n",
    "    iXY = mutual_info_score(None, None, contingency=cXY)\n",
    "    \n",
    "    if norm:\n",
    "        hX = ss.entropy(np.histogram(x, bins)[0])\n",
    "        hY = ss.entropy(np.histogram(y, bins)[0])\n",
    "        iXY/-min(hX, hY)\n",
    "    return iXY"
   ]
  },
  {
   "cell_type": "code",
   "execution_count": 21,
   "metadata": {},
   "outputs": [],
   "source": [
    "x= np.random.normal(size=size)\n",
    "e = np.random.normal(size=size)\n",
    "\n",
    "def plot_xy(coef):\n",
    "    y= coef*x + e\n",
    "    plt.scatter(x, y)\n",
    "    nmi = MutualInfo(x, y, True)\n",
    "    corr =np.corrcoef(x, y)[0, 1]\n",
    "    print(\"nm {}, corr {}\".format(nmi, corr))"
   ]
  },
  {
   "cell_type": "code",
   "execution_count": 22,
   "metadata": {},
   "outputs": [
    {
     "name": "stdout",
     "output_type": "stream",
     "text": [
      "nm 0.014296922725028688, corr 0.008164565502319898\n",
      "nm 3.7944224960989086, corr 0.999948559979\n"
     ]
    },
    {
     "data": {
      "image/png": "[encoded data removed]",
      "text/plain": [
       "<Figure size 432x288 with 1 Axes>"
      ]
     },
     "metadata": {
      "needs_background": "light"
     },
     "output_type": "display_data"
    }
   ],
   "source": [
    "plot_xy(0)\n",
    "plot_xy(100)"
   ]
  },
  {
   "cell_type": "markdown",
   "metadata": {},
   "source": [
    "## The correlation coefficient failed here, as expected\n",
    "but Mutual Information still retains some info"
   ]
  },
  {
   "cell_type": "code",
   "execution_count": 23,
   "metadata": {},
   "outputs": [
    {
     "name": "stdout",
     "output_type": "stream",
     "text": [
      "nm 1.0817713527248964, corr -6.088281803148087e-05\n"
     ]
    },
    {
     "data": {
      "image/png": "[encoded data removed]",
      "text/plain": [
       "<Figure size 432x288 with 1 Axes>"
      ]
     },
     "metadata": {
      "needs_background": "light"
     },
     "output_type": "display_data"
    }
   ],
   "source": [
    "y = 100*np.abs(x) + e\n",
    "plt.scatter(x, y)\n",
    "nmi = MutualInfo(x, y, True)\n",
    "corr =np.corrcoef(x, y)[0, 1]\n",
    "print(\"nm {}, corr {}\".format(nmi, corr))"
   ]
  },
  {
   "cell_type": "code",
   "execution_count": 24,
   "metadata": {},
   "outputs": [
    {
     "name": "stdout",
     "output_type": "stream",
     "text": [
      "nm 0.7171611264839632, corr -0.0034945990113950214\n"
     ]
    },
    {
     "data": {
      "image/png": "[encoded data removed]",
      "text/plain": [
       "<Figure size 432x288 with 1 Axes>"
      ]
     },
     "metadata": {
      "needs_background": "light"
     },
     "output_type": "display_data"
    }
   ],
   "source": [
    "y = 100*x**2 + e\n",
    "plt.scatter(x, y)\n",
    "nmi = MutualInfo(x, y, True)\n",
    "corr =np.corrcoef(x, y)[0, 1]\n",
    "print(\"nm {}, corr {}\".format(nmi, corr))"
   ]
  },
  {
   "cell_type": "code",
   "execution_count": 27,
   "metadata": {},
   "outputs": [
    {
     "name": "stdout",
     "output_type": "stream",
     "text": [
      "nm 0.702943906834824, corr -0.003547754308606024\n"
     ]
    },
    {
     "data": {
      "image/png": "[encoded data removed]",
      "text/plain": [
       "<Figure size 432x288 with 1 Axes>"
      ]
     },
     "metadata": {
      "needs_background": "light"
     },
     "output_type": "display_data"
    }
   ],
   "source": [
    "y = 1000 * x**2 + e\n",
    "plt.scatter(x, y)\n",
    "nmi = MutualInfo(x, y, True)\n",
    "corr =np.corrcoef(x, y)[0, 1]\n",
    "print(\"nm {}, corr {}\".format(nmi, corr))"
   ]
  }
 ],
 "metadata": {
  "kernelspec": {
   "display_name": "Python 3",
   "language": "python",
   "name": "python3"
  },
  "language_info": {
   "codemirror_mode": {
    "name": "ipython",
    "version": 3
   },
   "file_extension": ".py",
   "mimetype": "text/x-python",
   "name": "python",
   "nbconvert_exporter": "python",
   "pygments_lexer": "ipython3",
   "version": "3.7.3"
  }
 },
 "nbformat": 4,
 "nbformat_minor": 4
}
