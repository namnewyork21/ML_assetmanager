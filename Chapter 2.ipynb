{
 "cells": [
  {
   "cell_type": "markdown",
   "metadata": {},
   "source": [
    "# Denoising a correlation matrix using Random Matrix Theory"
   ]
  },
  {
   "cell_type": "code",
   "execution_count": 1,
   "metadata": {},
   "outputs": [],
   "source": [
    "import numpy as np \n",
    "import pandas as pd\n",
    "import matplotlib.pyplot as plt\n",
    "%matplotlib inline"
   ]
  },
  {
   "cell_type": "markdown",
   "metadata": {},
   "source": [
    "## For non-noisy matrix, the MP pdf resembles the empirical pdf"
   ]
  },
  {
   "cell_type": "code",
   "execution_count": 2,
   "metadata": {},
   "outputs": [],
   "source": [
    "from sklearn.neighbors import KernelDensity\n",
    "\n",
    "def mpPDF(var, q, pts=100):\n",
    "    # var: variance of the process\n",
    "    # q = number of observations / number of factors\n",
    "    # q = T/N according to Marco's notation\n",
    "    # pts = number of points to create the pdf\n",
    "    # output: pdf of the eigen values according to Marcenko-Pastur\n",
    "    tmp = (1./q)**.5\n",
    "    \n",
    "    # eigen value between eMin and eMax are consistent with random behavior\n",
    "    eMin, eMax = var *(1-tmp)**2, var*(1+tmp)**2\n",
    "    eVal = np.linspace(eMin, eMax,pts)\n",
    "    \n",
    "    # this ithe probability density function of the eigen-values of the correlation matrix\n",
    "    pdf = q/(2*np.pi*var*eVal) * ((eMax - eVal) *(eVal- eMin))**.5\n",
    "\n",
    "    pdf = pd.Series(pdf, index=eVal)    \n",
    "\n",
    "    return pdf\n",
    "\n",
    "def getPCA(matrix):\n",
    "    # eigen-value / eigen vectors\n",
    "    eVal, eVec = np.linalg.eigh(matrix)\n",
    "    indices = eVal.argsort()[::-1] # indexes of eigen values in descending order\n",
    "    \n",
    "    # slicing according to the size of eigen values\n",
    "    eVal, eVec = eVal[indices], eVec[:, indices]\n",
    "    \n",
    "    # turn into a diagonal matrix\n",
    "    eVal = np.diagflat(eVal)\n",
    "    return eVal, eVec\n",
    "\n",
    "def fitKDE(obs, bWidth=.25, kernel='gaussian', x=None):\n",
    "    # Fit kernel to a series of observations\n",
    "    # this is an empirical pdf\n",
    "    # output the probability of obs\n",
    "    # x is the array of values on which the fit KDE will be avaluated\n",
    "    if len(obs.shape) == 1:\n",
    "        obs=obs.reshape(-1,1)\n",
    "    kde = KernelDensity(kernel=kernel, bandwidth=bWidth).fit(obs)\n",
    "    if x is None:\n",
    "        x=np.unique(obs).reshape(-1,1)\n",
    "    if len(x.shape) == 1:\n",
    "        x = x.reshape(-1,1)\n",
    "    \n",
    "    logProb=kde.score_samples(x) #log of density\n",
    "    \n",
    "    \n",
    "    pdf = pd.Series(np.exp(logProb), index=x.flatten())\n",
    "    return pdf"
   ]
  },
  {
   "cell_type": "code",
   "execution_count": 3,
   "metadata": {},
   "outputs": [],
   "source": [
    "# let's test this\n",
    "x = np.random.normal(size=(10**4, 10**3))\n",
    "eVal0, eVec0= getPCA(np.corrcoef(x, rowvar=0))"
   ]
  },
  {
   "cell_type": "code",
   "execution_count": 4,
   "metadata": {},
   "outputs": [
    {
     "data": {
      "text/plain": [
       "(1000, 1000)"
      ]
     },
     "metadata": {},
     "output_type": "display_data"
    },
    {
     "data": {
      "text/plain": [
       "(1000, 1000)"
      ]
     },
     "metadata": {},
     "output_type": "display_data"
    },
    {
     "data": {
      "text/plain": [
       "[<matplotlib.lines.Line2D at 0x201837e3470>]"
      ]
     },
     "execution_count": 4,
     "metadata": {},
     "output_type": "execute_result"
    },
    {
     "data": {
      "image/png": "[encoded data removed]",
      "text/plain": [
       "<Figure size 432x288 with 1 Axes>"
      ]
     },
     "metadata": {
      "needs_background": "light"
     },
     "output_type": "display_data"
    }
   ],
   "source": [
    "display(eVal0.shape, eVec0.shape)\n",
    "plt.plot(np.diagonal(eVal0))"
   ]
  },
  {
   "cell_type": "markdown",
   "metadata": {},
   "source": [
    "That was easy, now we can apply the 2 ways of estimating the pdf of eigen values like before. Conclusion: for a random matrix, Mp-pdf works quite well"
   ]
  },
  {
   "cell_type": "code",
   "execution_count": 5,
   "metadata": {},
   "outputs": [
    {
     "data": {
      "text/plain": [
       "<matplotlib.legend.Legend at 0x201838a45c0>"
      ]
     },
     "execution_count": 5,
     "metadata": {},
     "output_type": "execute_result"
    },
    {
     "data": {
      "image/png": "[encoded data removed]",
      "text/plain": [
       "<Figure size 432x288 with 1 Axes>"
      ]
     },
     "metadata": {
      "needs_background": "light"
     },
     "output_type": "display_data"
    }
   ],
   "source": [
    "# Further confirm q = number of observations / number of columns\n",
    "pdf_mp = mpPDF(1., q=x.shape[0] / (1.0 *x.shape[1]), pts=1000)\n",
    "pdf_kde = fitKDE(np.diag(eVal0), bWidth=0.01) \n",
    "\n",
    "fig, ax = plt.subplots()\n",
    "ax.set_xlim((0.0, 2.0))\n",
    "ax.set_ylim((0.0, 1.2))\n",
    "ax.plot(pdf_mp, color='blue',label='Marcenko-Pastur', alpha=0.8)\n",
    "ax.plot(pdf_kde, color='orange',linestyle='--', label='Empirical:KDE')\n",
    "ax.legend()"
   ]
  },
  {
   "cell_type": "markdown",
   "metadata": {},
   "source": [
    "so far nothing much. We have not talked about de-noising or getting signals out of it at all\n",
    "## Getting the signal back from a noisy matrix\n",
    "given the empirical, fit it into the theoretical to get back the theoretical Variance\n",
    "#### Rank of a matrix"
   ]
  },
  {
   "cell_type": "code",
   "execution_count": 6,
   "metadata": {},
   "outputs": [
    {
     "data": {
      "text/plain": [
       "(1000, 1000)"
      ]
     },
     "metadata": {},
     "output_type": "display_data"
    },
    {
     "name": "stdout",
     "output_type": "stream",
     "text": [
      "Because w is 1000x100, rank is  100\n",
      "With noises, we can have the full rank  1000\n"
     ]
    }
   ],
   "source": [
    "w = np.random.normal(size=(1000,100))\n",
    "cov = np.dot(w, w.T)\n",
    "display(cov.shape)\n",
    "print(\"Because w is 1000x100, rank is \", np.linalg.matrix_rank(cov))\n",
    "\n",
    "cov+= np.diag(np.random.uniform(size=1000))\n",
    "print(\"With noises, we can have the full rank \",np.linalg.matrix_rank(cov))"
   ]
  },
  {
   "cell_type": "markdown",
   "metadata": {},
   "source": [
    "#### Adding noise to a matrix\n",
    "Note: $q= N/T = 10$ => we have 10 times as many columns as observations"
   ]
  },
  {
   "cell_type": "code",
   "execution_count": 7,
   "metadata": {},
   "outputs": [],
   "source": [
    "def getRndCov(nCols, nFacts):\n",
    "    w = np.random.normal(size=(nCols, nFacts))\n",
    "    # random cov matrix from the data\n",
    "    # not full rank because nCols > nFacts: we have more noises than signals\n",
    "    cov = np.dot(w, w.T) \n",
    "    cov+= np.diag(np.random.uniform(size=nCols)) # full rank cov\n",
    "    return cov\n",
    "    \n",
    "def cov2corr(cov):\n",
    "    # Derive the correlation matrix from the covariance matrix\n",
    "    std = np.sqrt(np.diag(cov))\n",
    "    corr = cov / np.outer(std, std)\n",
    "    corr[corr <-1], corr[corr > 1] = -1, 1 # fixing the numerical error\n",
    "    return corr\n",
    "\n",
    "def corr2cov(corr, std):\n",
    "    cov = corr*np.outer(std, std)\n",
    "    return cov\n",
    "\n",
    "alpha, nCols, nFact, q = .995, 10**3, 100, 10\n",
    "# the signal\n",
    "cov_real = np.cov(np.random.normal(size=(nCols*q, nCols)), rowvar=0)\n",
    "# noise\n",
    "noise = getRndCov(nCols, nFact)\n",
    "\n",
    "cov = alpha * cov_real + (1-alpha) * noise\n",
    "corr0 = cov2corr(cov)"
   ]
  },
  {
   "cell_type": "code",
   "execution_count": 8,
   "metadata": {},
   "outputs": [
    {
     "name": "stdout",
     "output_type": "stream",
     "text": [
      "Number of observations  10000\n"
     ]
    }
   ],
   "source": [
    "print(\"Number of observations \", nCols*q)"
   ]
  },
  {
   "cell_type": "code",
   "execution_count": 9,
   "metadata": {},
   "outputs": [
    {
     "data": {
      "text/plain": [
       "(1000, 1000)"
      ]
     },
     "metadata": {},
     "output_type": "display_data"
    },
    {
     "data": {
      "text/plain": [
       "(1000, 1000)"
      ]
     },
     "metadata": {},
     "output_type": "display_data"
    }
   ],
   "source": [
    "display(cov_real.shape, noise.shape)"
   ]
  },
  {
   "cell_type": "markdown",
   "metadata": {},
   "source": [
    "#### Fitting the thereotical MP pdf on the list of eigen values (sorted)\n",
    "=> to get the theoretical variance <br>\n",
    "=> to get the theoretical maximum value of eigen-values"
   ]
  },
  {
   "cell_type": "code",
   "execution_count": 10,
   "metadata": {},
   "outputs": [],
   "source": [
    "from scipy.optimize import minimize\n",
    "\n",
    "def errPDFs(var, eVal, q, bWidth, pts=1000):\n",
    "    # fitting error given a variance\n",
    "    pdf0= mpPDF(var[0], q, pts)\n",
    "    pdf_kde = fitKDE(eVal, bWidth, x = pdf0.index.values)\n",
    "    \n",
    "    sse = np.sum((pdf_kde-pdf0)**2)\n",
    "    return sse\n",
    "\n",
    "def findMaxEval(eVal, q, bWidth):\n",
    "    out = minimize(lambda *x :errPDFs(*x), \n",
    "                   0.5, \n",
    "                   args=(eVal, q, bWidth),\n",
    "                  bounds=((1e-5, 1-1e-5),))\n",
    "    if out['success']:\n",
    "        var = out['x'][0]\n",
    "    else:\n",
    "        var = 1\n",
    "    eMax = var * (1+(1./q) **0.5)**2\n",
    "    return eMax, var        "
   ]
  },
  {
   "cell_type": "code",
   "execution_count": 11,
   "metadata": {},
   "outputs": [
    {
     "data": {
      "text/plain": [
       "0.233772    0.000000\n",
       "0.234405    0.271589\n",
       "0.235038    0.382859\n",
       "0.235671    0.467410\n",
       "0.236305    0.538002\n",
       "              ...   \n",
       "0.863695    0.147196\n",
       "0.864329    0.127446\n",
       "0.864962    0.104035\n",
       "0.865595    0.073547\n",
       "0.866228    0.000000\n",
       "Length: 1000, dtype: float64"
      ]
     },
     "execution_count": 11,
     "metadata": {},
     "output_type": "execute_result"
    }
   ],
   "source": [
    "mpPDF(0.5, q, 1000)"
   ]
  },
  {
   "cell_type": "code",
   "execution_count": 12,
   "metadata": {},
   "outputs": [],
   "source": [
    "eVal0, eVec0 = getPCA(corr0)\n",
    "eMax0, var0 = findMaxEval(np.diagonal(eVal0), q, bWidth=0.01)"
   ]
  },
  {
   "cell_type": "code",
   "execution_count": 13,
   "metadata": {},
   "outputs": [
    {
     "data": {
      "text/plain": [
       "1.1746601178158296"
      ]
     },
     "metadata": {},
     "output_type": "display_data"
    },
    {
     "data": {
      "text/plain": [
       "0.6780319010190884"
      ]
     },
     "metadata": {},
     "output_type": "display_data"
    }
   ],
   "source": [
    "display(eMax0, var0)"
   ]
  },
  {
   "cell_type": "code",
   "execution_count": 14,
   "metadata": {},
   "outputs": [
    {
     "name": "stdout",
     "output_type": "stream",
     "text": [
      "To pick 100 from 1000 factors\n"
     ]
    }
   ],
   "source": [
    "# Only pick the number of factors that are greater than the theoretical max of eigen values\n",
    "nFacts0 = eVal0.shape[0] - np.diag(eVal0)[::-1].searchsorted(eMax0)\n",
    "print(\"To pick {} from {} factors\".format(nFacts0, eVal0.shape[0]))"
   ]
  },
  {
   "cell_type": "code",
   "execution_count": 15,
   "metadata": {},
   "outputs": [
    {
     "data": {
      "text/plain": [
       "0.467358    0.174530\n",
       "0.471973    0.247172\n",
       "0.475920    0.310148\n",
       "0.479380    0.362758\n",
       "0.480072    0.372851\n",
       "              ...   \n",
       "1.695445    0.208319\n",
       "1.700172    0.195646\n",
       "1.707946    0.172085\n",
       "1.712050    0.151668\n",
       "1.715177    0.130761\n",
       "Length: 1000, dtype: float64"
      ]
     },
     "execution_count": 15,
     "metadata": {},
     "output_type": "execute_result"
    }
   ],
   "source": [
    "pdf_kde[:10]"
   ]
  },
  {
   "cell_type": "code",
   "execution_count": 16,
   "metadata": {},
   "outputs": [
    {
     "data": {
      "text/plain": [
       "array([6.34721452, 6.2043935 , 6.07064156, 5.94579366, 5.92824663,\n",
       "       5.86971258, 5.7024601 , 5.65126716, 5.55031389, 5.47920885])"
      ]
     },
     "execution_count": 16,
     "metadata": {},
     "output_type": "execute_result"
    }
   ],
   "source": [
    "np.diagonal(eVal0)[:10]"
   ]
  },
  {
   "cell_type": "code",
   "execution_count": 17,
   "metadata": {},
   "outputs": [],
   "source": [
    "pdf_kde = fitKDE(np.diagonal(eVal0), bWidth=0.01, x = None)\n",
    "theoretical_df = mpPDF(var0, q, pts=1000)"
   ]
  },
  {
   "cell_type": "markdown",
   "metadata": {},
   "source": [
    "### Everything to the right of the theoretical max values can be considered the signals\n",
    "we can keep only the eigenvectors associated with these large signals.\n",
    "\n",
    "Note: pdf_kde is sorted by <b>descending</b> of the eigen values. Good thing that the plotting function takes care of the order"
   ]
  },
  {
   "cell_type": "code",
   "execution_count": 18,
   "metadata": {},
   "outputs": [
    {
     "data": {
      "text/plain": [
       "<matplotlib.legend.Legend at 0x20183848080>"
      ]
     },
     "execution_count": 18,
     "metadata": {},
     "output_type": "execute_result"
    },
    {
     "data": {
      "image/png": "[encoded data removed]",
      "text/plain": [
       "<Figure size 432x288 with 1 Axes>"
      ]
     },
     "metadata": {
      "needs_background": "light"
     },
     "output_type": "display_data"
    }
   ],
   "source": [
    "fig, ax = plt.subplots()\n",
    "ax.bar(x=pdf_kde.index, height=pdf_kde, alpha=0.7,color='orange', label='empirical')\n",
    "ax.plot(theoretical_df.index, theoretical_df, color='blue', label='theoretical')\n",
    "max_theoretical= np.max(theoretical_df.index)\n",
    "ax.axvline(max_theoretical, color='blue', linestyle='--', label='theoretical max')\n",
    "ax.legend()"
   ]
  },
  {
   "cell_type": "markdown",
   "metadata": {},
   "source": [
    "# Graph of explained variance"
   ]
  },
  {
   "cell_type": "code",
   "execution_count": 29,
   "metadata": {},
   "outputs": [
    {
     "data": {
      "text/plain": [
       "0.500320182367064"
      ]
     },
     "execution_count": 29,
     "metadata": {},
     "output_type": "execute_result"
    }
   ],
   "source": [
    "variance_cumsum[np.argmax(variance_cumsum >= 0.5)]"
   ]
  },
  {
   "cell_type": "code",
   "execution_count": 31,
   "metadata": {},
   "outputs": [
    {
     "data": {
      "text/plain": [
       "Text(0.5, 1.0, 'Explained variance')"
      ]
     },
     "execution_count": 31,
     "metadata": {},
     "output_type": "execute_result"
    },
    {
     "data": {
      "image/png": "[encoded data removed]",
      "text/plain": [
       "<Figure size 432x288 with 1 Axes>"
      ]
     },
     "metadata": {
      "needs_background": "light"
     },
     "output_type": "display_data"
    }
   ],
   "source": [
    "variance = np.diagonal(eVal0)\n",
    "variance_cumsum = np.cumsum(variance / np.sum(variance))\n",
    "\n",
    "fig, ax = plt.subplots()\n",
    "ax.plot(variance_cumsum, label='Explained variance')\n",
    "ax.axvline(99, label='select by MPF', linestyle='--', color='red')\n",
    "ax.axvline(np.argmax(variance_cumsum >= 0.5), \n",
    "           label='50% variance', linestyle='--', alpha=0.9)\n",
    "ax.set_xlim(xmin=0)\n",
    "ax.set_ylim(ymin=0, ymax=1)\n",
    "ax.legend()\n",
    "ax.set_title(\"Explained variance\")"
   ]
  },
  {
   "cell_type": "markdown",
   "metadata": {},
   "source": [
    "## Denoises according to the set of eigenfactors\n",
    "continuing the code above"
   ]
  },
  {
   "cell_type": "code",
   "execution_count": 19,
   "metadata": {},
   "outputs": [],
   "source": [
    "def denoisedCorr(eVal, eVec, nFacts):\n",
    "    # remove noise by fixing eigenvalues that are considered random\n",
    "    # as opposed to simply getting rid of the eigen vectors like in PCA\n",
    "    eVal_ = np.diag(eVal).copy()\n",
    "    \n",
    "    # the replacement value is such that the trace of the eigenvalues matrix is preserved\n",
    "    replace_val = eVal_[nFacts:].sum() / float(eVal_.shape[0] - nFacts)\n",
    "    eVal_[nFacts:] = replace_val\n",
    "    \n",
    "    eVal_ = np.diag(eVal_)\n",
    "    corr1 = np.dot(eVec, eVal_).dot(eVec.T)\n",
    "    corr1 = cov2corr(corr1)\n",
    "    return corr1\n",
    "\n",
    "corr1 = denoisedCorr(eVal0, eVec0, nFacts0)\n",
    "eVal1, eVec1 = getPCA(corr1)"
   ]
  },
  {
   "cell_type": "markdown",
   "metadata": {},
   "source": [
    "alternatively, denoising by targetted shrinkage. The formula looks similar to that in here:\n",
    "https://scikit-learn.org/stable/modules/generated/sklearn.covariance.ledoit_wolf.html"
   ]
  },
  {
   "cell_type": "code",
   "execution_count": 20,
   "metadata": {},
   "outputs": [],
   "source": [
    "def denoisedCorr2(eVal, eVec, nFacts, alpha=0):\n",
    "    # left\n",
    "    eValL, eVecL = eVal[:nFacts, :nFacts], eVec[:, :nFacts]\n",
    "    \n",
    "    # right\n",
    "    eValR, eVecR = eVal[nFacts:, nFacts:], eVec[:, nFacts:]\n",
    "    \n",
    "    corr0 = np.dot(eVecL, eValL).dot(eVecL.T)\n",
    "    corr1 = np.dot(eVecR, eValR).dot(eVecR.T)\n",
    "    corr2 = corr0 + alpha * corr1 + (1-alpha) * np.diag(np.diag(corr1))\n",
    "    \n",
    "    # alpha = 0 means: only add the diagonal\n",
    "    return corr2\n",
    "\n",
    "corr2 = denoisedCorr2(eVal0, eVec0, nFacts0, alpha=0.5)\n",
    "eVal2, eVec2 = getPCA(corr2)"
   ]
  },
  {
   "cell_type": "markdown",
   "metadata": {},
   "source": [
    "# Apply and get experimental portfolio"
   ]
  },
  {
   "cell_type": "code",
   "execution_count": 21,
   "metadata": {},
   "outputs": [
    {
     "data": {
      "text/plain": [
       "array([[1. , 0.2, 0.2, 0.2, 0.2],\n",
       "       [0.2, 1. , 0.2, 0.2, 0.2],\n",
       "       [0.2, 0.2, 1. , 0.2, 0.2],\n",
       "       [0.2, 0.2, 0.2, 1. , 0.2],\n",
       "       [0.2, 0.2, 0.2, 0.2, 1. ]])"
      ]
     },
     "metadata": {},
     "output_type": "display_data"
    },
    {
     "data": {
      "text/plain": [
       "array([[1. , 0.2, 0.2, 0.2, 0.2, 0. , 0. , 0. , 0. , 0. ],\n",
       "       [0.2, 1. , 0.2, 0.2, 0.2, 0. , 0. , 0. , 0. , 0. ],\n",
       "       [0.2, 0.2, 1. , 0.2, 0.2, 0. , 0. , 0. , 0. , 0. ],\n",
       "       [0.2, 0.2, 0.2, 1. , 0.2, 0. , 0. , 0. , 0. , 0. ],\n",
       "       [0.2, 0.2, 0.2, 0.2, 1. , 0. , 0. , 0. , 0. , 0. ],\n",
       "       [0. , 0. , 0. , 0. , 0. , 1. , 0.2, 0.2, 0.2, 0.2],\n",
       "       [0. , 0. , 0. , 0. , 0. , 0.2, 1. , 0.2, 0.2, 0.2],\n",
       "       [0. , 0. , 0. , 0. , 0. , 0.2, 0.2, 1. , 0.2, 0.2],\n",
       "       [0. , 0. , 0. , 0. , 0. , 0.2, 0.2, 0.2, 1. , 0.2],\n",
       "       [0. , 0. , 0. , 0. , 0. , 0.2, 0.2, 0.2, 0.2, 1. ]])"
      ]
     },
     "metadata": {},
     "output_type": "display_data"
    }
   ],
   "source": [
    "from scipy.linalg import block_diag\n",
    "\n",
    "def formBlockMatrix(nBlocks, bSize, bCorr):\n",
    "    block = np.ones((bSize, bSize)) * bCorr\n",
    "    # set the digonal to 1\n",
    "    block[range(bSize), range(bSize)] = 1\n",
    "    \n",
    "    corr = block_diag(*([block] * nBlocks))\n",
    "    return corr\n",
    "\n",
    "# illustrate the function\n",
    "bSize=5\n",
    "bCorr = 0.2\n",
    "block = np.ones((bSize, bSize)) * bCorr \n",
    "block[range(bSize), range(bSize)] = 1\n",
    "display(block)\n",
    "\n",
    "# Each blog can be thought of as an economic sector\n",
    "display(block_diag(*([block] * 2)))"
   ]
  },
  {
   "cell_type": "markdown",
   "metadata": {},
   "source": [
    "## True covariance matrix"
   ]
  },
  {
   "cell_type": "code",
   "execution_count": 22,
   "metadata": {},
   "outputs": [
    {
     "name": "stdout",
     "output_type": "stream",
     "text": [
      "10\n"
     ]
    },
    {
     "data": {
      "text/plain": [
       "(10, 1)"
      ]
     },
     "metadata": {},
     "output_type": "display_data"
    },
    {
     "data": {
      "text/plain": [
       "(10, 10)"
      ]
     },
     "metadata": {},
     "output_type": "display_data"
    }
   ],
   "source": [
    "def formTrueMatrix(nBlocks, bSize, bCorr):\n",
    "    # Generate blocks of correlation matrix\n",
    "    corr0 = formBlockMatrix(nBlocks, bSize, bCorr)\n",
    "    corr0 = pd.DataFrame(corr0)\n",
    "    cols = corr0.columns.tolist()\n",
    "    \n",
    "    # randomly shuffle the cols\n",
    "    np.random.shuffle(cols)\n",
    "    \n",
    "    corr0 = corr0[cols].loc[cols].copy(deep=True)\n",
    "    \n",
    "    # Noises. Note: corr0 is a square matrix with each of dimension of size (nBlocks * bSize)\n",
    "    print(corr0.shape[0])\n",
    "    std0 = np.random.uniform(0.05, 0.2, corr0.shape[0])\n",
    "    \n",
    "    cov0 = corr2cov(corr0, std0)\n",
    "    mu0 = np.random.normal(std0, std0, cov0.shape[0]).reshape(-1, 1)\n",
    "    return mu0, cov0\n",
    "\n",
    "from sklearn.covariance import LedoitWolf\n",
    "nBlocks, bSize, bCorr = 2, 5, .5\n",
    "np.random.seed(0)\n",
    "\n",
    "mu0, cov0 = formTrueMatrix(nBlocks, bSize, bCorr)\n",
    "display(mu0.shape, cov0.shape)"
   ]
  },
  {
   "cell_type": "markdown",
   "metadata": {},
   "source": [
    "## Empirical covariance matrix\n",
    "ie, what we observed"
   ]
  },
  {
   "cell_type": "code",
   "execution_count": 23,
   "metadata": {},
   "outputs": [
    {
     "data": {
      "text/plain": [
       "(10, 1)"
      ]
     },
     "metadata": {},
     "output_type": "display_data"
    },
    {
     "data": {
      "text/plain": [
       "(10, 10)"
      ]
     },
     "metadata": {},
     "output_type": "display_data"
    }
   ],
   "source": [
    "def simCovMu(mu0, cov0, nObs, shrink=False):\n",
    "    # nObs depend on how many observations we are simulating\n",
    "    # ideally, nObs should be larger than the size of cov0\n",
    "    x = np.random.multivariate_normal(mu0.flatten(), cov0, size=nObs)\n",
    "    \n",
    "    # take the empirical mean\n",
    "    # and the empirical Covariance\n",
    "    mu1 = x.mean(axis=0).reshape(-1, 1)\n",
    "    if shrink:\n",
    "        cov1 = LedoitWolf().fit(x).covariance_\n",
    "    else:\n",
    "        cov1= np.cov(x, rowvar=0)\n",
    "    return mu1, cov1\n",
    "\n",
    "def deNoiseCov(cov0, q, bWidth):\n",
    "    corr0= cov2corr(cov0)\n",
    "    eVal0, eVec0 = getPCA(corr0)\n",
    "    eMax0, var0 = findMaxEval(np.diag(eVal0), q, bWidth)\n",
    "    nFacts0 =eVal0.shape[0] - np.diag(eVal0)[::-1].searchsorted(eMax0)\n",
    "    corr1 =denoisedCorr(eVal0, eVec0, nFacts0)\n",
    "    cov1 = corr2cov(corr1, np.diag(cov0) **0.5)\n",
    "    return cov1\n",
    "    \n",
    "mu1, cov1 = simCovMu(mu0, cov0,nObs=10)\n",
    "cov1_denoised = deNoiseCov(cov1, 10, bWidth=0.01)\n",
    "\n",
    "display(mu1.shape, cov1.shape)"
   ]
  },
  {
   "cell_type": "markdown",
   "metadata": {},
   "source": [
    "Optimial, portfolio, likely following this mathematical setup:\n",
    "$$argmin w : w^T \\Sigma w$$\n",
    "such that $$R^T W = \\mu$$"
   ]
  },
  {
   "cell_type": "code",
   "execution_count": 24,
   "metadata": {},
   "outputs": [],
   "source": [
    "def optPort(cov, mu=None):\n",
    "    ## optimal according to mean-variance theory\n",
    "    # so perhaps optimal way to minimize the Variance (risk) for a portfolio of risky assest\n",
    "    inv = np.linalg.inv(cov)\n",
    "    ones = np.ones(shape=(inv.shape[0], 1))\n",
    "    if mu is None:\n",
    "        mu = ones\n",
    "    \n",
    "    w = np.dot(inv, mu)\n",
    "    w/= np.dot(ones.T, v)\n",
    "    return w"
   ]
  },
  {
   "cell_type": "code",
   "execution_count": null,
   "metadata": {},
   "outputs": [],
   "source": []
  }
 ],
 "metadata": {
  "kernelspec": {
   "display_name": "Python 3",
   "language": "python",
   "name": "python3"
  },
  "language_info": {
   "codemirror_mode": {
    "name": "ipython",
    "version": 3
   },
   "file_extension": ".py",
   "mimetype": "text/x-python",
   "name": "python",
   "nbconvert_exporter": "python",
   "pygments_lexer": "ipython3",
   "version": "3.7.3"
  }
 },
 "nbformat": 4,
 "nbformat_minor": 4
}
