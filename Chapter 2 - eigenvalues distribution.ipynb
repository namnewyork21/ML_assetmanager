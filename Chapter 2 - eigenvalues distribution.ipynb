{
 "cells": [
  {
   "cell_type": "code",
   "execution_count": 1,
   "metadata": {},
   "outputs": [],
   "source": [
    "import numpy as np \n",
    "import pandas as pd\n",
    "import matplotlib.pyplot as plt\n",
    "%matplotlib inline\n",
    "\n",
    "def getPCA(matrix):\n",
    "    # eigen-value / eigen vectors\n",
    "    eVal, eVec = np.linalg.eigh(matrix)\n",
    "    return eVal\n",
    "\n",
    "\n",
    "numTrials = 5000\n",
    "np.random.seed(0)\n",
    "\n",
    "res = np.array([])\n",
    "for this_num in range(numTrials):\n",
    "    x = np.random.normal(size=(10**3, 10))\n",
    "    eVal0= getPCA(np.corrcoef(x, rowvar=0))\n",
    "    res = np.append(res, eVal0)\n",
    "    "
   ]
  },
  {
   "cell_type": "code",
   "execution_count": 2,
   "metadata": {},
   "outputs": [
    {
     "data": {
      "text/plain": [
       "<matplotlib.axes._subplots.AxesSubplot at 0x129030f1eb8>"
      ]
     },
     "execution_count": 2,
     "metadata": {},
     "output_type": "execute_result"
    },
    {
     "data": {
      "image/png": "[encoded data removed]",
      "text/plain": [
       "<Figure size 432x288 with 1 Axes>"
      ]
     },
     "metadata": {
      "needs_background": "light"
     },
     "output_type": "display_data"
    }
   ],
   "source": [
    "# See the generated eigenvalues\n",
    "pd.Series(res).hist(bins=50)"
   ]
  },
  {
   "cell_type": "code",
   "execution_count": 3,
   "metadata": {},
   "outputs": [],
   "source": [
    "def mpPDF(var, q, pts=100, val=None):\n",
    "    # var: variance of the process\n",
    "    # q = number of observations / number of factors\n",
    "    # q = T/N according to Marco's notation\n",
    "    # pts = number of points to create the pdf\n",
    "    # output: pdf of the eigen values according to Marcenko-Pastur\n",
    "    tmp = (1./q)**.5\n",
    "    \n",
    "    # eigen value between eMin and eMax are consistent with random behavior\n",
    "    eMin, eMax = var *(1-tmp)**2, var*(1+tmp)**2\n",
    "    \n",
    "    if val is None:\n",
    "        eVal = np.linspace(eMin, eMax,pts)\n",
    "    else:\n",
    "        eVal = np.unique(val)\n",
    "    \n",
    "    # this ithe probability density function of the eigen-values of the correlation matrix\n",
    "    pdf = q/(2*np.pi*var*eVal) * ((eMax - eVal) *(eVal- eMin))**.5\n",
    "    \n",
    "    pdf = pd.Series(pdf, index=eVal)\n",
    "    pdf[(eVal >= eMax) | (eVal <= eMin)] = 0\n",
    "    \n",
    "    return pdf"
   ]
  },
  {
   "cell_type": "code",
   "execution_count": 4,
   "metadata": {},
   "outputs": [
    {
     "data": {
      "text/plain": [
       "(array([0.00402801, 0.01611203, 0.06042012, 0.15910631, 0.28397454,\n",
       "        0.6243412 , 1.04728201, 1.68974924, 1.96365377, 2.28790839,\n",
       "        2.40874862, 2.68869516, 2.8659275 , 3.03711783, 3.10357996,\n",
       "        3.16198607, 3.24254622, 3.21636417, 3.33921841, 3.3875545 ,\n",
       "        3.46610065, 3.54867481, 3.46610065, 3.34324642, 3.51846475,\n",
       "        3.46005864, 3.2848403 , 3.42380657, 3.19622413, 3.09753794,\n",
       "        3.15393005, 2.92231961, 2.82564742, 2.608135  , 2.55778491,\n",
       "        2.48326677, 2.1892222 , 2.0341439 , 1.81260348, 1.72398731,\n",
       "        1.37556464, 1.06138004, 0.64045323, 0.45315087, 0.25376449,\n",
       "        0.12084023, 0.04833609, 0.02416805, 0.01007002, 0.00805602]),\n",
       " array([0.76569923, 0.77562969, 0.78556016, 0.79549063, 0.8054211 ,\n",
       "        0.81535156, 0.82528203, 0.8352125 , 0.84514297, 0.85507343,\n",
       "        0.8650039 , 0.87493437, 0.88486484, 0.8947953 , 0.90472577,\n",
       "        0.91465624, 0.92458671, 0.93451717, 0.94444764, 0.95437811,\n",
       "        0.96430858, 0.97423904, 0.98416951, 0.99409998, 1.00403045,\n",
       "        1.01396091, 1.02389138, 1.03382185, 1.04375232, 1.05368278,\n",
       "        1.06361325, 1.07354372, 1.08347419, 1.09340465, 1.10333512,\n",
       "        1.11326559, 1.12319606, 1.13312652, 1.14305699, 1.15298746,\n",
       "        1.16291793, 1.17284839, 1.18277886, 1.19270933, 1.2026398 ,\n",
       "        1.21257026, 1.22250073, 1.2324312 , 1.24236167, 1.25229213,\n",
       "        1.2622226 ]))"
      ]
     },
     "execution_count": 4,
     "metadata": {},
     "output_type": "execute_result"
    }
   ],
   "source": [
    "val_hist = np.histogram(res,bins=50, density=True)\n",
    "val_hist"
   ]
  },
  {
   "cell_type": "code",
   "execution_count": 5,
   "metadata": {},
   "outputs": [
    {
     "name": "stderr",
     "output_type": "stream",
     "text": [
      "D:\\Anaconda\\lib\\site-packages\\ipykernel_launcher.py:18: RuntimeWarning: invalid value encountered in sqrt\n"
     ]
    }
   ],
   "source": [
    "pdf = mpPDF(1., 100., val = val_hist[1])"
   ]
  },
  {
   "cell_type": "code",
   "execution_count": 6,
   "metadata": {},
   "outputs": [
    {
     "data": {
      "text/plain": [
       "<matplotlib.legend.Legend at 0x129032c1d30>"
      ]
     },
     "execution_count": 6,
     "metadata": {},
     "output_type": "execute_result"
    },
    {
     "data": {
      "image/png": "[encoded data removed]",
      "text/plain": [
       "<Figure size 432x288 with 1 Axes>"
      ]
     },
     "metadata": {
      "needs_background": "light"
     },
     "output_type": "display_data"
    }
   ],
   "source": [
    "fig, ax = plt.subplots()\n",
    "pdf.plot(ax=ax, label='theoretical')\n",
    "ax.plot(val_hist[1][:-1], val_hist[0],alpha=0.7,color='orange', label='empirical')\n",
    "ax.legend()\n",
    "#pd.Series(val_hist[0], index=val_hist[1]).plot()"
   ]
  }
 ],
 "metadata": {
  "kernelspec": {
   "display_name": "Python 3",
   "language": "python",
   "name": "python3"
  },
  "language_info": {
   "codemirror_mode": {
    "name": "ipython",
    "version": 3
   },
   "file_extension": ".py",
   "mimetype": "text/x-python",
   "name": "python",
   "nbconvert_exporter": "python",
   "pygments_lexer": "ipython3",
   "version": "3.7.3"
  }
 },
 "nbformat": 4,
 "nbformat_minor": 4
}
